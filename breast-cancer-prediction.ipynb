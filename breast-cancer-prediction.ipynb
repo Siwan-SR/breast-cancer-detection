{
  "nbformat": 4,
  "nbformat_minor": 0,
  "metadata": {
    "colab": {
      "provenance": [],
      "authorship_tag": "ABX9TyNZdfvODSuc2esOsA/DRkSX"
    },
    "kernelspec": {
      "name": "python3",
      "display_name": "Python 3"
    },
    "language_info": {
      "name": "python"
    }
  },
  "cells": [
    {
      "cell_type": "markdown",
      "source": [
        "# 🤧 Breast Cancer Prediction\n",
        "\n",
        "A machine learning model that detects whether a person has breast cancer with an accuracy of 95%.\n",
        "\n",
        "## 📊 Data\n",
        "\n",
        "The data is from: https://scikit-learn.org/stable/modules/generated/sklearn.datasets.load_breast_cancer.html\n",
        "\n",
        "## 🥧 How the model was made\n",
        "\n",
        "The model was made using [Tensorflow](https://www.tensorflow.org/), an excellent machine learning and deep learning library. I used Keras as the model.\n",
        "\n",
        "## 🏗️ How the notebook is structured\n",
        "\n",
        "* Explore the data\n",
        "* Create model\n",
        "\n",
        "## 🔍 What you will find\n",
        "\n",
        "* The use of [Scikit-Learn](https://www.scikit-learn.org/)\n",
        "* Many awesome functions\n",
        "* Accuracy of the model\n",
        "\n",
        "## How to clone the project\n",
        "\n",
        "Type in this command in your terminal\n",
        "\n",
        "```bash\n",
        "    git clone https://github.com/Siwan-SR/breast-cancer-prediction\n",
        "    \n",
        "```\n"
      ],
      "metadata": {
        "id": "CLTK6RKFZdVt"
      }
    },
    {
      "cell_type": "code",
      "source": [
        "import pandas as pd\n",
        "import numpy as numpy\n",
        "import matplotlib.pyplot as plt\n",
        "%matplotlib inline\n",
        "import seaborn as sns\n",
        "import plotly.express as px"
      ],
      "metadata": {
        "id": "fCoNtQh7ZqZf"
      },
      "execution_count": 1,
      "outputs": []
    },
    {
      "cell_type": "code",
      "source": [
        "from sklearn.model_selection import train_test_split\n",
        "from sklearn.datasets import load_breast_cancer\n",
        "from sklearn.neighbors import KNeighborsClassifier\n",
        "\n",
        "from sklearn.metrics import accuracy_score\n",
        "from sklearn.metrics import precision_score\n",
        "from sklearn.metrics import recall_score\n",
        "from sklearn.metrics import f1_score\n",
        "from sklearn.metrics import ConfusionMatrixDisplay\n",
        "from sklearn.metrics import roc_curve"
      ],
      "metadata": {
        "id": "bSfcVShKZ5QD"
      },
      "execution_count": 2,
      "outputs": []
    },
    {
      "cell_type": "markdown",
      "source": [
        "## Explore and Visualize data\n",
        "\n",
        "\n",
        "\n",
        "Now that we have imported our tools, let's explore our data."
      ],
      "metadata": {
        "id": "RlBej-wbackZ"
      }
    },
    {
      "cell_type": "code",
      "source": [
        "data = load_breast_cancer()\n",
        "print(data.feature_names)"
      ],
      "metadata": {
        "colab": {
          "base_uri": "https://localhost:8080/"
        },
        "id": "OnmeHegVatsz",
        "outputId": "fe978c1e-2d7e-40cf-a5ce-52ba13a40ec1"
      },
      "execution_count": 3,
      "outputs": [
        {
          "output_type": "stream",
          "name": "stdout",
          "text": [
            "['mean radius' 'mean texture' 'mean perimeter' 'mean area'\n",
            " 'mean smoothness' 'mean compactness' 'mean concavity'\n",
            " 'mean concave points' 'mean symmetry' 'mean fractal dimension'\n",
            " 'radius error' 'texture error' 'perimeter error' 'area error'\n",
            " 'smoothness error' 'compactness error' 'concavity error'\n",
            " 'concave points error' 'symmetry error' 'fractal dimension error'\n",
            " 'worst radius' 'worst texture' 'worst perimeter' 'worst area'\n",
            " 'worst smoothness' 'worst compactness' 'worst concavity'\n",
            " 'worst concave points' 'worst symmetry' 'worst fractal dimension']\n"
          ]
        }
      ]
    },
    {
      "cell_type": "code",
      "source": [
        "print(data.target_names)"
      ],
      "metadata": {
        "colab": {
          "base_uri": "https://localhost:8080/"
        },
        "id": "LBQvJrSobD9Z",
        "outputId": "10a00109-27eb-435b-d3a0-e90a5fe9d017"
      },
      "execution_count": 4,
      "outputs": [
        {
          "output_type": "stream",
          "name": "stdout",
          "text": [
            "['malignant' 'benign']\n"
          ]
        }
      ]
    },
    {
      "cell_type": "code",
      "source": [
        "type(data)"
      ],
      "metadata": {
        "colab": {
          "base_uri": "https://localhost:8080/"
        },
        "id": "aZVYXDvLcXaY",
        "outputId": "b2b465b6-f550-410a-8596-b9cc35930135"
      },
      "execution_count": 5,
      "outputs": [
        {
          "output_type": "execute_result",
          "data": {
            "text/plain": [
              "sklearn.utils.Bunch"
            ]
          },
          "metadata": {},
          "execution_count": 5
        }
      ]
    },
    {
      "cell_type": "code",
      "source": [
        "data.data.shape"
      ],
      "metadata": {
        "colab": {
          "base_uri": "https://localhost:8080/"
        },
        "id": "hHbunszuciSj",
        "outputId": "55293237-d268-457c-f004-2f08151407e0"
      },
      "execution_count": 6,
      "outputs": [
        {
          "output_type": "execute_result",
          "data": {
            "text/plain": [
              "(569, 30)"
            ]
          },
          "metadata": {},
          "execution_count": 6
        }
      ]
    },
    {
      "cell_type": "markdown",
      "source": [
        "## Create model\n",
        "\n",
        "We will create the model using KNeighborsClassifier. The k-nearest neighbors algorithm, also known as KNN or k-NN, is a non-parametric, supervised learning classifier, which uses proximity to make classifications or predictions about the grouping of an individual data point."
      ],
      "metadata": {
        "id": "M48GBY7wckkd"
      }
    },
    {
      "cell_type": "code",
      "source": [
        "X = data.data\n",
        "y = data.target\n",
        "\n",
        "X_train, X_test, y_train, y_test = train_test_split(X, y, test_size = 0.2, random_state = 42) # Training: 80% of data; Testing: 20% of data"
      ],
      "metadata": {
        "id": "MxA97Hh7dVGd"
      },
      "execution_count": 7,
      "outputs": []
    },
    {
      "cell_type": "code",
      "source": [
        "model = KNeighborsClassifier()\n",
        "model.fit(X_train, y_train)\n",
        "\n",
        "model.score(X_test, y_test)"
      ],
      "metadata": {
        "colab": {
          "base_uri": "https://localhost:8080/"
        },
        "id": "EmvraPR-dphf",
        "outputId": "ae48b717-5482-45dc-e8a1-2bc004d3ebec"
      },
      "execution_count": 25,
      "outputs": [
        {
          "output_type": "execute_result",
          "data": {
            "text/plain": [
              "0.956140350877193"
            ]
          },
          "metadata": {},
          "execution_count": 25
        }
      ]
    },
    {
      "cell_type": "code",
      "source": [
        "def model_report(y_test, y_preds):\n",
        "    print(f\"Accuracy: {accuracy_score(y_test, y_preds) * 100:.2f}%\")\n",
        "    print(f\"Precision: {precision_score(y_test, y_preds)}\")\n",
        "    print(f\"Recall: {recall_score(y_test, y_preds)}\")\n",
        "    print(f\"F1 Score: {f1_score(y_test, y_preds)}\")"
      ],
      "metadata": {
        "id": "O_hyCRHPeNE7"
      },
      "execution_count": 26,
      "outputs": []
    },
    {
      "cell_type": "code",
      "source": [
        "y_pred = model.predict(X_test)\n",
        "\n",
        "model_report(y_test, y_pred)"
      ],
      "metadata": {
        "colab": {
          "base_uri": "https://localhost:8080/"
        },
        "id": "s5zRuLhpemCv",
        "outputId": "bb1c0029-c7a0-447a-b121-b8de8e92a62a"
      },
      "execution_count": 27,
      "outputs": [
        {
          "output_type": "stream",
          "name": "stdout",
          "text": [
            "Accuracy: 95.61%\n",
            "Precision: 0.9342105263157895\n",
            "Recall: 1.0\n",
            "F1 Score: 0.9659863945578232\n"
          ]
        }
      ]
    },
    {
      "cell_type": "code",
      "source": [
        "ConfusionMatrixDisplay.from_predictions(y_test, y_pred);"
      ],
      "metadata": {
        "colab": {
          "base_uri": "https://localhost:8080/",
          "height": 280
        },
        "id": "zABW2YhreuIJ",
        "outputId": "39410e23-719a-45a2-ec75-31a46b5b36bd"
      },
      "execution_count": 28,
      "outputs": [
        {
          "output_type": "display_data",
          "data": {
            "text/plain": [
              "<Figure size 432x288 with 2 Axes>"
            ],
            "image/png": "[encoded data removed]"
          },
          "metadata": {
            "needs_background": "light"
          }
        }
      ]
    },
    {
      "cell_type": "code",
      "source": [
        "y_probs = model.predict_proba(X_test)\n",
        "\n",
        "y_probs_positive = y_probs[:, 1]\n",
        "y_probs_positive[:10]\n",
        "\n",
        "# Caculate fpr, tpr and thresholds\n",
        "fpr, tpr, thresholds = roc_curve(y_test, y_probs_positive)"
      ],
      "metadata": {
        "id": "dyeLkdcEgppe"
      },
      "execution_count": 29,
      "outputs": []
    },
    {
      "cell_type": "code",
      "source": [
        "def plot_roc_curve(fpr, tpr):\n",
        "    plt.plot(fpr, tpr, color=\"lime\", label=\"ROC\")\n",
        "\n",
        "    plt.xlabel(\"False positive rate (fpr)\")\n",
        "    plt.ylabel(\"True positive rate (tpr)\")\n",
        "    plt.title(\"Receiver Operating Characteristic (ROC) Curve\")\n",
        "    plt.legend();"
      ],
      "metadata": {
        "id": "ehuQSxWJg4ts"
      },
      "execution_count": 30,
      "outputs": []
    },
    {
      "cell_type": "code",
      "source": [
        "plot_roc_curve(fpr, tpr)"
      ],
      "metadata": {
        "colab": {
          "base_uri": "https://localhost:8080/",
          "height": 295
        },
        "id": "7gdf_-JYhCmS",
        "outputId": "426dd143-0c5b-4e4c-da6d-b008474b4df3"
      },
      "execution_count": 31,
      "outputs": [
        {
          "output_type": "display_data",
          "data": {
            "text/plain": [
              "<Figure size 432x288 with 1 Axes>"
            ],
            "image/png": "[encoded data removed]"
          },
          "metadata": {
            "needs_background": "light"
          }
        }
      ]
    }
  ]
}